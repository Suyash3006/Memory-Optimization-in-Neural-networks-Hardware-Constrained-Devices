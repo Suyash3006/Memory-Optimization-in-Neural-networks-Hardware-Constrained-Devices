{
 "cells": [
  {
   "cell_type": "code",
   "execution_count": 2,
   "metadata": {},
   "outputs": [
    {
     "name": "stdout",
     "output_type": "stream",
     "text": [
      "Epoch 1/5\n",
      "1875/1875 [==============================] - 41s 21ms/step - loss: 0.1475 - accuracy: 0.9535 - val_loss: 0.0506 - val_accuracy: 0.9843\n",
      "Epoch 2/5\n",
      "1875/1875 [==============================] - 41s 22ms/step - loss: 0.0474 - accuracy: 0.9854 - val_loss: 0.0419 - val_accuracy: 0.9867\n",
      "Epoch 3/5\n",
      "1875/1875 [==============================] - 46s 25ms/step - loss: 0.0338 - accuracy: 0.9893 - val_loss: 0.0384 - val_accuracy: 0.9885\n",
      "Epoch 4/5\n",
      "1875/1875 [==============================] - 41s 22ms/step - loss: 0.0240 - accuracy: 0.9925 - val_loss: 0.0351 - val_accuracy: 0.9891\n",
      "Epoch 5/5\n",
      "1875/1875 [==============================] - 40s 21ms/step - loss: 0.0204 - accuracy: 0.9933 - val_loss: 0.0274 - val_accuracy: 0.9913\n",
      "Model saved as mnist_model.h5\n",
      "313/313 - 2s - loss: 0.0274 - accuracy: 0.9913 - 2s/epoch - 6ms/step\n",
      "\n",
      "Test accuracy: 0.9912999868392944\n"
     ]
    }
   ],
   "source": [
    "import numpy as np\n",
    "import tensorflow as tf\n",
    "from tensorflow import keras\n",
    "from tensorflow.keras import layers\n",
    "\n",
    "# Load and preprocess the MNIST dataset\n",
    "(x_train, y_train), (x_test, y_test) = keras.datasets.mnist.load_data()\n",
    "x_train, x_test = x_train / 255.0, x_test / 255.0\n",
    "\n",
    "# Build the model with 5 layers\n",
    "model = keras.Sequential([\n",
    "    layers.Conv2D(32, (3, 3), activation='relu', input_shape=(28, 28, 1)),  # Flatten the 28x28 images to a 1D array\n",
    "    layers.MaxPooling2D((2, 2)),  # First dense layer with 128 neurons and ReLU activation\n",
    "    layers.Conv2D(64, (3, 3), activation='relu'),   # Second dense layer with 64 neurons and ReLU activation\n",
    "    layers.MaxPooling2D((2, 2)),   # Third dense layer with 32 neurons and ReLU activation\n",
    "    layers.Flatten() ,  # Output layer with 10 neurons (for each digit) and softmax activation\n",
    "    layers.Dense(64, activation='relu'),\n",
    "    layers.Dense(128 , activation = 'relu'),\n",
    "    layers.Dense(10, activation='softmax')\n",
    "])\n",
    "# optimizedModel = models.Sequential()\n",
    "# optimizedModel.add(layers.Conv2D(32, (3, 3), activation='relu', input_shape=(28, 28, 1)))\n",
    "# optimizedModel.add(layers.MaxPooling2D((2, 2)))\n",
    "# optimizedModel.add(layers.Conv2D(64, (3, 3), activation='relu'))\n",
    "# optimizedModel.add(layers.MaxPooling2D((2, 2)))\n",
    "# optimizedModel.add(layers.Flatten())\n",
    "# optimizedModel.add(layers.Dense(64, activation='relu'))\n",
    "# optimizedModel.add(layers.Dense(10, activation='softmax'))\n",
    "\n",
    "# Compile the model\n",
    "model.compile(optimizer='adam',\n",
    "              loss='sparse_categorical_crossentropy',\n",
    "              metrics=['accuracy'])\n",
    "\n",
    "# Train the model\n",
    "model.fit(x_train, y_train, epochs=5, validation_data=(x_test, y_test))\n",
    "\n",
    "# Save the model in HDF5 format\n",
    "model.save('mnist_model.h5')\n",
    "print(\"Model saved as mnist_model.h5\")\n",
    "\n",
    "# Evaluate the model on the test set\n",
    "test_loss, test_acc = model.evaluate(x_test, y_test, verbose=2)\n",
    "print(\"\\nTest accuracy:\", test_acc)\n"
   ]
  },
  {
   "cell_type": "code",
   "execution_count": 3,
   "metadata": {},
   "outputs": [
    {
     "name": "stdout",
     "output_type": "stream",
     "text": [
      "Model: \"sequential\"\n",
      "_________________________________________________________________\n",
      " Layer (type)                Output Shape              Param #   \n",
      "=================================================================\n",
      " conv2d (Conv2D)             (None, 26, 26, 32)        320       \n",
      "                                                                 \n",
      " max_pooling2d (MaxPooling2D  (None, 13, 13, 32)       0         \n",
      " )                                                               \n",
      "                                                                 \n",
      " conv2d_1 (Conv2D)           (None, 11, 11, 64)        18496     \n",
      "                                                                 \n",
      " max_pooling2d_1 (MaxPooling  (None, 5, 5, 64)         0         \n",
      " 2D)                                                             \n",
      "                                                                 \n",
      " flatten (Flatten)           (None, 1600)              0         \n",
      "                                                                 \n",
      " dense (Dense)               (None, 64)                102464    \n",
      "                                                                 \n",
      " dense_1 (Dense)             (None, 128)               8320      \n",
      "                                                                 \n",
      " dense_2 (Dense)             (None, 10)                1290      \n",
      "                                                                 \n",
      "=================================================================\n",
      "Total params: 130,890\n",
      "Trainable params: 130,890\n",
      "Non-trainable params: 0\n",
      "_________________________________________________________________\n"
     ]
    }
   ],
   "source": [
    "model.summary()"
   ]
  }
 ],
 "metadata": {
  "kernelspec": {
   "display_name": "Python 3",
   "language": "python",
   "name": "python3"
  },
  "language_info": {
   "codemirror_mode": {
    "name": "ipython",
    "version": 3
   },
   "file_extension": ".py",
   "mimetype": "text/x-python",
   "name": "python",
   "nbconvert_exporter": "python",
   "pygments_lexer": "ipython3",
   "version": "3.8.10"
  },
  "orig_nbformat": 4
 },
 "nbformat": 4,
 "nbformat_minor": 2
}
